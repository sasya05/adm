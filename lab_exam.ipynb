{
  "nbformat": 4,
  "nbformat_minor": 0,
  "metadata": {
    "colab": {
      "provenance": [],
      "authorship_tag": "ABX9TyMnpaH9DTnQ1xMNeRdjN565",
      "include_colab_link": true
    },
    "kernelspec": {
      "name": "python3",
      "display_name": "Python 3"
    },
    "language_info": {
      "name": "python"
    }
  },
  "cells": [
    {
      "cell_type": "markdown",
      "metadata": {
        "id": "view-in-github",
        "colab_type": "text"
      },
      "source": [
        "<a href=\"https://colab.research.google.com/github/sasya05/adm/blob/main/lab_exam.ipynb\" target=\"_parent\"><img src=\"https://colab.research.google.com/assets/colab-badge.svg\" alt=\"Open In Colab\"/></a>"
      ]
    },
    {
      "cell_type": "code",
      "execution_count": 11,
      "metadata": {
        "colab": {
          "base_uri": "https://localhost:8080/"
        },
        "id": "HgnRdtEe5sUM",
        "outputId": "75289817-2ae7-4a78-81a3-7e46f0e307a0"
      },
      "outputs": [
        {
          "output_type": "stream",
          "name": "stdout",
          "text": [
            "   arrage  salary\n",
            "0    0.00    0.00\n",
            "1    0.25    0.25\n",
            "2    0.50    0.50\n",
            "3    0.75    0.75\n",
            "4    1.00    1.00\n"
          ]
        }
      ],
      "source": [
        "import numpy as np\n",
        "import pandas as pd\n",
        "from sklearn.preprocessing import MinMaxScaler\n",
        "given={'age':[20,25,30,35,40],'salary':[30000,40000,50000,60000,70000]}\n",
        "data=pd.DataFrame(given)\n",
        "scaler=MinMaxScaler()\n",
        "data[['age','salary']]=scaler.fit_transform(data[['age','salary']])\n",
        "print(data)"
      ]
    },
    {
      "cell_type": "code",
      "source": [],
      "metadata": {
        "id": "uvSt5oHw6wkO"
      },
      "execution_count": null,
      "outputs": []
    }
  ]
}